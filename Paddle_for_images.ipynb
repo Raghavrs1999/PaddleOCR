{
 "cells": [
  {
   "cell_type": "markdown",
   "id": "932158e1-bde8-4200-825a-958d7a73cb2e",
   "metadata": {},
   "source": [
    "Install Packages "
   ]
  },
  {
   "cell_type": "code",
   "execution_count": 1,
   "id": "ffdeb087-9fb5-4bad-9d82-3289ff60b35a",
   "metadata": {},
   "outputs": [
    {
     "name": "stdout",
     "output_type": "stream",
     "text": [
      "Requirement already satisfied: paddlepaddle-gpu in c:\\python\\lib\\site-packages (2.5.1)\n",
      "Requirement already satisfied: httpx in c:\\python\\lib\\site-packages (from paddlepaddle-gpu) (0.24.1)\n",
      "Requirement already satisfied: numpy>=1.13 in c:\\python\\lib\\site-packages (from paddlepaddle-gpu) (1.23.5)\n",
      "Requirement already satisfied: Pillow in c:\\python\\lib\\site-packages (from paddlepaddle-gpu) (9.3.0)\n",
      "Requirement already satisfied: decorator in c:\\users\\dell\\appdata\\roaming\\python\\python310\\site-packages (from paddlepaddle-gpu) (5.1.1)\n",
      "Requirement already satisfied: astor in c:\\python\\lib\\site-packages (from paddlepaddle-gpu) (0.8.1)\n",
      "Requirement already satisfied: paddle-bfloat==0.1.7 in c:\\python\\lib\\site-packages (from paddlepaddle-gpu) (0.1.7)\n",
      "Requirement already satisfied: opt-einsum==3.3.0 in c:\\python\\lib\\site-packages (from paddlepaddle-gpu) (3.3.0)\n",
      "Requirement already satisfied: protobuf<=3.20.2,>=3.1.0 in c:\\python\\lib\\site-packages (from paddlepaddle-gpu) (3.20.2)\n",
      "Requirement already satisfied: certifi in c:\\python\\lib\\site-packages (from httpx->paddlepaddle-gpu) (2022.12.7)\n",
      "Requirement already satisfied: httpcore<0.18.0,>=0.15.0 in c:\\python\\lib\\site-packages (from httpx->paddlepaddle-gpu) (0.17.2)\n",
      "Requirement already satisfied: idna in c:\\python\\lib\\site-packages (from httpx->paddlepaddle-gpu) (3.4)\n",
      "Requirement already satisfied: sniffio in c:\\python\\lib\\site-packages (from httpx->paddlepaddle-gpu) (1.3.0)\n",
      "Requirement already satisfied: h11<0.15,>=0.13 in c:\\python\\lib\\site-packages (from httpcore<0.18.0,>=0.15.0->httpx->paddlepaddle-gpu) (0.14.0)\n",
      "Requirement already satisfied: anyio<5.0,>=3.0 in c:\\python\\lib\\site-packages (from httpcore<0.18.0,>=0.15.0->httpx->paddlepaddle-gpu) (3.7.0)\n",
      "Requirement already satisfied: exceptiongroup in c:\\python\\lib\\site-packages (from anyio<5.0,>=3.0->httpcore<0.18.0,>=0.15.0->httpx->paddlepaddle-gpu) (1.1.1)\n"
     ]
    },
    {
     "name": "stderr",
     "output_type": "stream",
     "text": [
      "WARNING: There was an error checking the latest version of pip.\n"
     ]
    },
    {
     "name": "stdout",
     "output_type": "stream",
     "text": [
      "Requirement already satisfied: paddleocr in c:\\python\\lib\\site-packages (2.7.0.2)\n",
      "Requirement already satisfied: shapely in c:\\python\\lib\\site-packages (from paddleocr) (2.0.1)\n",
      "Requirement already satisfied: scikit-image in c:\\python\\lib\\site-packages (from paddleocr) (0.21.0)\n",
      "Requirement already satisfied: imgaug in c:\\python\\lib\\site-packages (from paddleocr) (0.4.0)\n",
      "Requirement already satisfied: pyclipper in c:\\python\\lib\\site-packages (from paddleocr) (1.3.0.post4)\n",
      "Requirement already satisfied: lmdb in c:\\python\\lib\\site-packages (from paddleocr) (1.4.1)\n",
      "Requirement already satisfied: tqdm in c:\\python\\lib\\site-packages (from paddleocr) (4.65.0)\n",
      "Requirement already satisfied: numpy in c:\\python\\lib\\site-packages (from paddleocr) (1.23.5)\n",
      "Requirement already satisfied: visualdl in c:\\python\\lib\\site-packages (from paddleocr) (2.5.3)\n",
      "Requirement already satisfied: rapidfuzz in c:\\python\\lib\\site-packages (from paddleocr) (3.2.0)\n",
      "Requirement already satisfied: opencv-python<=4.6.0.66 in c:\\python\\lib\\site-packages (from paddleocr) (4.6.0.66)\n",
      "Requirement already satisfied: opencv-contrib-python<=4.6.0.66 in c:\\python\\lib\\site-packages (from paddleocr) (4.6.0.66)\n",
      "Requirement already satisfied: cython in c:\\python\\lib\\site-packages (from paddleocr) (3.0.0)\n",
      "Requirement already satisfied: lxml in c:\\python\\lib\\site-packages (from paddleocr) (4.9.3)\n",
      "Requirement already satisfied: premailer in c:\\python\\lib\\site-packages (from paddleocr) (3.10.0)\n",
      "Requirement already satisfied: openpyxl in c:\\python\\lib\\site-packages (from paddleocr) (3.1.2)\n",
      "Requirement already satisfied: attrdict in c:\\python\\lib\\site-packages (from paddleocr) (2.0.1)\n",
      "Requirement already satisfied: PyMuPDF<1.21.0 in c:\\python\\lib\\site-packages (from paddleocr) (1.20.2)\n",
      "Requirement already satisfied: Pillow in c:\\python\\lib\\site-packages (from paddleocr) (9.3.0)\n",
      "Requirement already satisfied: python-docx in c:\\python\\lib\\site-packages (from paddleocr) (0.8.11)\n",
      "Requirement already satisfied: beautifulsoup4 in c:\\python\\lib\\site-packages (from paddleocr) (4.12.2)\n",
      "Requirement already satisfied: fonttools>=4.24.0 in c:\\python\\lib\\site-packages (from paddleocr) (4.40.0)\n",
      "Requirement already satisfied: fire>=0.3.0 in c:\\python\\lib\\site-packages (from paddleocr) (0.5.0)\n",
      "Requirement already satisfied: pdf2docx in c:\\python\\lib\\site-packages (from paddleocr) (0.5.6)\n",
      "Requirement already satisfied: six in c:\\python\\lib\\site-packages (from fire>=0.3.0->paddleocr) (1.16.0)\n",
      "Requirement already satisfied: termcolor in c:\\python\\lib\\site-packages (from fire>=0.3.0->paddleocr) (2.3.0)\n",
      "Requirement already satisfied: soupsieve>1.2 in c:\\python\\lib\\site-packages (from beautifulsoup4->paddleocr) (2.4.1)\n",
      "Requirement already satisfied: scipy in c:\\python\\lib\\site-packages (from imgaug->paddleocr) (1.10.1)\n",
      "Requirement already satisfied: matplotlib in c:\\python\\lib\\site-packages (from imgaug->paddleocr) (3.7.1)\n",
      "Requirement already satisfied: imageio in c:\\python\\lib\\site-packages (from imgaug->paddleocr) (2.31.1)\n",
      "Requirement already satisfied: networkx>=2.8 in c:\\python\\lib\\site-packages (from scikit-image->paddleocr) (3.0)\n",
      "Requirement already satisfied: tifffile>=2022.8.12 in c:\\python\\lib\\site-packages (from scikit-image->paddleocr) (2023.4.12)\n",
      "Requirement already satisfied: PyWavelets>=1.1.1 in c:\\python\\lib\\site-packages (from scikit-image->paddleocr) (1.4.1)\n",
      "Requirement already satisfied: packaging>=21 in c:\\python\\lib\\site-packages (from scikit-image->paddleocr) (23.1)\n",
      "Requirement already satisfied: lazy_loader>=0.2 in c:\\python\\lib\\site-packages (from scikit-image->paddleocr) (0.2)\n",
      "Requirement already satisfied: et-xmlfile in c:\\python\\lib\\site-packages (from openpyxl->paddleocr) (1.1.0)\n",
      "Requirement already satisfied: cssselect in c:\\python\\lib\\site-packages (from premailer->paddleocr) (1.2.0)\n",
      "Requirement already satisfied: cssutils in c:\\python\\lib\\site-packages (from premailer->paddleocr) (2.7.1)\n",
      "Requirement already satisfied: requests in c:\\python\\lib\\site-packages (from premailer->paddleocr) (2.28.1)\n",
      "Requirement already satisfied: cachetools in c:\\python\\lib\\site-packages (from premailer->paddleocr) (5.3.1)\n",
      "Requirement already satisfied: colorama in c:\\python\\lib\\site-packages (from tqdm->paddleocr) (0.4.4)\n",
      "Requirement already satisfied: bce-python-sdk in c:\\python\\lib\\site-packages (from visualdl->paddleocr) (0.8.90)\n",
      "Requirement already satisfied: flask>=1.1.1 in c:\\python\\lib\\site-packages (from visualdl->paddleocr) (2.3.2)\n",
      "Requirement already satisfied: Flask-Babel>=3.0.0 in c:\\python\\lib\\site-packages (from visualdl->paddleocr) (3.1.0)\n",
      "Requirement already satisfied: protobuf>=3.20.0 in c:\\python\\lib\\site-packages (from visualdl->paddleocr) (3.20.2)\n",
      "Requirement already satisfied: pandas in c:\\users\\dell\\appdata\\roaming\\python\\python310\\site-packages (from visualdl->paddleocr) (1.5.3)\n",
      "Requirement already satisfied: rarfile in c:\\python\\lib\\site-packages (from visualdl->paddleocr) (4.0)\n",
      "Requirement already satisfied: psutil in c:\\python\\lib\\site-packages (from visualdl->paddleocr) (5.9.5)\n",
      "Requirement already satisfied: Werkzeug>=2.3.3 in c:\\python\\lib\\site-packages (from flask>=1.1.1->visualdl->paddleocr) (2.3.6)\n",
      "Requirement already satisfied: Jinja2>=3.1.2 in c:\\python\\lib\\site-packages (from flask>=1.1.1->visualdl->paddleocr) (3.1.2)\n",
      "Requirement already satisfied: itsdangerous>=2.1.2 in c:\\python\\lib\\site-packages (from flask>=1.1.1->visualdl->paddleocr) (2.1.2)\n",
      "Requirement already satisfied: click>=8.1.3 in c:\\python\\lib\\site-packages (from flask>=1.1.1->visualdl->paddleocr) (8.1.3)\n",
      "Requirement already satisfied: blinker>=1.6.2 in c:\\python\\lib\\site-packages (from flask>=1.1.1->visualdl->paddleocr) (1.6.2)\n",
      "Requirement already satisfied: Babel>=2.12 in c:\\python\\lib\\site-packages (from Flask-Babel>=3.0.0->visualdl->paddleocr) (2.12.1)\n",
      "Requirement already satisfied: pytz>=2022.7 in c:\\users\\dell\\appdata\\roaming\\python\\python310\\site-packages (from Flask-Babel>=3.0.0->visualdl->paddleocr) (2022.7.1)\n",
      "Requirement already satisfied: pycryptodome>=3.8.0 in c:\\python\\lib\\site-packages (from bce-python-sdk->visualdl->paddleocr) (3.18.0)\n",
      "Requirement already satisfied: future>=0.6.0 in c:\\python\\lib\\site-packages (from bce-python-sdk->visualdl->paddleocr) (0.18.3)\n",
      "Requirement already satisfied: contourpy>=1.0.1 in c:\\python\\lib\\site-packages (from matplotlib->imgaug->paddleocr) (1.1.0)\n",
      "Requirement already satisfied: cycler>=0.10 in c:\\python\\lib\\site-packages (from matplotlib->imgaug->paddleocr) (0.11.0)\n",
      "Requirement already satisfied: kiwisolver>=1.0.1 in c:\\python\\lib\\site-packages (from matplotlib->imgaug->paddleocr) (1.4.4)\n",
      "Requirement already satisfied: pyparsing>=2.3.1 in c:\\python\\lib\\site-packages (from matplotlib->imgaug->paddleocr) (3.0.9)\n",
      "Requirement already satisfied: python-dateutil>=2.7 in c:\\python\\lib\\site-packages (from matplotlib->imgaug->paddleocr) (2.8.2)\n",
      "Requirement already satisfied: charset-normalizer<3,>=2 in c:\\python\\lib\\site-packages (from requests->premailer->paddleocr) (2.1.1)\n",
      "Requirement already satisfied: idna<4,>=2.5 in c:\\python\\lib\\site-packages (from requests->premailer->paddleocr) (3.4)\n",
      "Requirement already satisfied: urllib3<1.27,>=1.21.1 in c:\\python\\lib\\site-packages (from requests->premailer->paddleocr) (1.26.13)\n",
      "Requirement already satisfied: certifi>=2017.4.17 in c:\\python\\lib\\site-packages (from requests->premailer->paddleocr) (2022.12.7)\n",
      "Requirement already satisfied: MarkupSafe>=2.0 in c:\\python\\lib\\site-packages (from Jinja2>=3.1.2->flask>=1.1.1->visualdl->paddleocr) (2.1.2)\n"
     ]
    },
    {
     "name": "stderr",
     "output_type": "stream",
     "text": [
      "WARNING: There was an error checking the latest version of pip.\n"
     ]
    }
   ],
   "source": [
    "!pip install paddlepaddle-gpu\n",
    "!pip install paddleocr"
   ]
  },
  {
   "cell_type": "markdown",
   "id": "a213363b-8288-422e-951e-e8d949c5c926",
   "metadata": {},
   "source": [
    "Cloning Directory "
   ]
  },
  {
   "cell_type": "code",
   "execution_count": 2,
   "id": "f5977402-d68e-46f8-8f43-32f6c8938d45",
   "metadata": {},
   "outputs": [
    {
     "name": "stderr",
     "output_type": "stream",
     "text": [
      "Cloning into 'Paddle'...\n",
      "Updating files:  17% (2212/12884)\n",
      "Updating files:  18% (2320/12884)\n",
      "Updating files:  19% (2448/12884)\n",
      "Updating files:  20% (2577/12884)\n",
      "Updating files:  21% (2706/12884)\n",
      "Updating files:  22% (2835/12884)\n",
      "Updating files:  23% (2964/12884)\n",
      "Updating files:  24% (3093/12884)\n",
      "Updating files:  25% (3221/12884)\n",
      "Updating files:  26% (3350/12884)\n",
      "Updating files:  27% (3479/12884)\n",
      "Updating files:  28% (3608/12884)\n",
      "Updating files:  29% (3737/12884)\n",
      "Updating files:  30% (3866/12884)\n",
      "Updating files:  31% (3995/12884)\n",
      "Updating files:  32% (4123/12884)\n",
      "Updating files:  33% (4252/12884)\n",
      "Updating files:  34% (4381/12884)\n",
      "Updating files:  35% (4510/12884)\n",
      "Updating files:  36% (4639/12884)\n",
      "Updating files:  36% (4763/12884)\n",
      "Updating files:  37% (4768/12884)\n",
      "Updating files:  38% (4896/12884)\n",
      "Updating files:  39% (5025/12884)\n",
      "Updating files:  40% (5154/12884)\n",
      "Updating files:  41% (5283/12884)\n",
      "Updating files:  42% (5412/12884)\n",
      "Updating files:  43% (5541/12884)\n",
      "Updating files:  44% (5669/12884)\n",
      "Updating files:  45% (5798/12884)\n",
      "Updating files:  46% (5927/12884)\n",
      "Updating files:  47% (6056/12884)\n",
      "Updating files:  48% (6185/12884)\n",
      "Updating files:  49% (6314/12884)\n",
      "Updating files:  50% (6442/12884)\n",
      "Updating files:  51% (6571/12884)\n",
      "Updating files:  51% (6625/12884)\n",
      "Updating files:  52% (6700/12884)\n",
      "Updating files:  53% (6829/12884)\n",
      "Updating files:  54% (6958/12884)\n",
      "Updating files:  55% (7087/12884)\n",
      "Updating files:  56% (7216/12884)\n",
      "Updating files:  57% (7344/12884)\n",
      "Updating files:  58% (7473/12884)\n",
      "Updating files:  59% (7602/12884)\n",
      "Updating files:  60% (7731/12884)\n",
      "Updating files:  61% (7860/12884)\n",
      "Updating files:  62% (7989/12884)\n",
      "Updating files:  63% (8117/12884)\n",
      "Updating files:  63% (8123/12884)\n",
      "Updating files:  64% (8246/12884)\n",
      "Updating files:  65% (8375/12884)\n",
      "Updating files:  66% (8504/12884)\n",
      "Updating files:  67% (8633/12884)\n",
      "Updating files:  68% (8762/12884)\n",
      "Updating files:  69% (8890/12884)\n",
      "Updating files:  70% (9019/12884)\n",
      "Updating files:  71% (9148/12884)\n",
      "Updating files:  72% (9277/12884)\n",
      "Updating files:  73% (9406/12884)\n",
      "Updating files:  74% (9535/12884)\n",
      "Updating files:  75% (9663/12884)\n",
      "Updating files:  76% (9792/12884)\n",
      "Updating files:  76% (9823/12884)\n",
      "Updating files:  77% (9921/12884)\n",
      "Updating files:  78% (10050/12884)\n",
      "Updating files:  79% (10179/12884)\n",
      "Updating files:  80% (10308/12884)\n",
      "Updating files:  81% (10437/12884)\n",
      "Updating files:  82% (10565/12884)\n",
      "Updating files:  83% (10694/12884)\n",
      "Updating files:  84% (10823/12884)\n",
      "Updating files:  85% (10952/12884)\n",
      "Updating files:  86% (11081/12884)\n",
      "Updating files:  87% (11210/12884)\n",
      "Updating files:  88% (11338/12884)\n",
      "Updating files:  89% (11467/12884)\n",
      "Updating files:  90% (11596/12884)\n",
      "Updating files:  91% (11725/12884)\n",
      "Updating files:  92% (11854/12884)\n",
      "Updating files:  93% (11983/12884)\n",
      "Updating files:  94% (12111/12884)\n",
      "Updating files:  95% (12240/12884)\n",
      "Updating files:  96% (12369/12884)\n",
      "Updating files:  97% (12498/12884)\n",
      "Updating files:  98% (12627/12884)\n",
      "Updating files:  99% (12756/12884)\n",
      "Updating files:  99% (12871/12884)\n",
      "Updating files: 100% (12884/12884)\n",
      "Updating files: 100% (12884/12884), done.\n"
     ]
    }
   ],
   "source": [
    "!git clone https://github.com/PaddlePaddle/Paddle.git"
   ]
  },
  {
   "cell_type": "code",
   "execution_count": 1,
   "id": "eb30b1a3-99a0-449b-a000-da7f61b771e5",
   "metadata": {},
   "outputs": [],
   "source": [
    "# Importing Packages\n",
    "from paddleocr import PaddleOCR, draw_ocr\n",
    "from matplotlib import pyplot as plt\n",
    "import cv2\n",
    "import os"
   ]
  },
  {
   "cell_type": "code",
   "execution_count": 2,
   "id": "ee6d76fc-525a-46aa-8ad2-8bd6d3af02d3",
   "metadata": {},
   "outputs": [
    {
     "name": "stdout",
     "output_type": "stream",
     "text": [
      "[2023/10/24 13:58:51] ppocr DEBUG: Namespace(help='==SUPPRESS==', use_gpu=False, use_xpu=False, use_npu=False, ir_optim=True, use_tensorrt=False, min_subgraph_size=15, precision='fp32', gpu_mem=500, gpu_id=0, image_dir=None, page_num=0, det_algorithm='DB', det_model_dir='C:\\\\Users\\\\DELL/.paddleocr/whl\\\\det\\\\en\\\\en_PP-OCRv3_det_infer', det_limit_side_len=960, det_limit_type='max', det_box_type='quad', det_db_thresh=0.3, det_db_box_thresh=0.6, det_db_unclip_ratio=1.5, max_batch_size=10, use_dilation=False, det_db_score_mode='fast', det_east_score_thresh=0.8, det_east_cover_thresh=0.1, det_east_nms_thresh=0.2, det_sast_score_thresh=0.5, det_sast_nms_thresh=0.2, det_pse_thresh=0, det_pse_box_thresh=0.85, det_pse_min_area=16, det_pse_scale=1, scales=[8, 16, 32], alpha=1.0, beta=1.0, fourier_degree=5, rec_algorithm='SVTR_LCNet', rec_model_dir='C:\\\\Users\\\\DELL/.paddleocr/whl\\\\rec\\\\en\\\\en_PP-OCRv4_rec_infer', rec_image_inverse=True, rec_image_shape='3, 48, 320', rec_batch_num=6, max_text_length=25, rec_char_dict_path='C:\\\\PYTHON\\\\lib\\\\site-packages\\\\paddleocr\\\\ppocr\\\\utils\\\\en_dict.txt', use_space_char=True, vis_font_path='./doc/fonts/simfang.ttf', drop_score=0.5, e2e_algorithm='PGNet', e2e_model_dir=None, e2e_limit_side_len=768, e2e_limit_type='max', e2e_pgnet_score_thresh=0.5, e2e_char_dict_path='./ppocr/utils/ic15_dict.txt', e2e_pgnet_valid_set='totaltext', e2e_pgnet_mode='fast', use_angle_cls=True, cls_model_dir='C:\\\\Users\\\\DELL/.paddleocr/whl\\\\cls\\\\ch_ppocr_mobile_v2.0_cls_infer', cls_image_shape='3, 48, 192', label_list=['0', '180'], cls_batch_num=6, cls_thresh=0.9, enable_mkldnn=False, cpu_threads=10, use_pdserving=False, warmup=False, sr_model_dir=None, sr_image_shape='3, 32, 128', sr_batch_num=1, draw_img_save_dir='./inference_results', save_crop_res=False, crop_res_save_dir='./output', use_mp=False, total_process_num=1, process_id=0, benchmark=False, save_log_path='./log_output/', show_log=True, use_onnx=False, return_word_box=False, output='./output', table_max_len=488, table_algorithm='TableAttn', table_model_dir=None, merge_no_span_structure=True, table_char_dict_path=None, layout_model_dir=None, layout_dict_path=None, layout_score_threshold=0.5, layout_nms_threshold=0.5, kie_algorithm='LayoutXLM', ser_model_dir=None, re_model_dir=None, use_visual_backbone=True, ser_dict_path='../train_data/XFUND/class_list_xfun.txt', ocr_order_method=None, mode='structure', image_orientation=False, layout=True, table=True, ocr=True, recovery=False, use_pdf2docx_api=False, lang='en', det=True, rec=True, type='ocr', ocr_version='PP-OCRv4', structure_version='PP-StructureV2')\n"
     ]
    }
   ],
   "source": [
    "# If you have GPU With cuda enabled then use first commented line\n",
    "#ocr_model = PaddleOCR(use_angle_cls=True ,lang='en',use_gpu=True, gpu_id=0)\n",
    "ocr_model = PaddleOCR(use_angle_cls=True ,lang='en')"
   ]
  },
  {
   "cell_type": "code",
   "execution_count": 3,
   "id": "0318381b-01a2-45b8-84b1-98e923baabd9",
   "metadata": {},
   "outputs": [
    {
     "data": {
      "text/plain": [
       "'.\\\\army_size.png'"
      ]
     },
     "execution_count": 3,
     "metadata": {},
     "output_type": "execute_result"
    }
   ],
   "source": [
    "# Assigning path\n",
    "img_path = os.path.join('.', \"army_size.png\")\n",
    "img_path"
   ]
  },
  {
   "cell_type": "code",
   "execution_count": 4,
   "id": "5db31f5a-5ff8-4ae0-9c11-2df48ba8df8e",
   "metadata": {},
   "outputs": [
    {
     "name": "stdout",
     "output_type": "stream",
     "text": [
      "[2023/10/24 13:58:54] ppocr DEBUG: dt_boxes num : 13, elapse : 0.4473586082458496\n",
      "[2023/10/24 13:58:54] ppocr DEBUG: cls num  : 13, elapse : 0.17108774185180664\n",
      "[2023/10/24 13:59:00] ppocr DEBUG: rec_res num  : 13, elapse : 6.3313539028167725\n"
     ]
    }
   ],
   "source": [
    "# Run the ocr method on the ocr model\n",
    "result = ocr_model.ocr(img_path,cls = True)"
   ]
  },
  {
   "cell_type": "code",
   "execution_count": 68,
   "id": "74d55bc5-d17f-495f-bfbd-ea1f7237b6e3",
   "metadata": {},
   "outputs": [
    {
     "name": "stdout",
     "output_type": "stream",
     "text": [
      "                               Text         Point1          Point2  \\\n",
      "0              How big is the Army?    [8.0, 14.0]   [658.0, 16.0]   \n",
      "1                     1Koti(1Crore)  [62.0, 102.0]  [340.0, 102.0]   \n",
      "2             100,000 Koti=1 Shanku  [61.0, 145.0]  [479.0, 146.0]   \n",
      "3        100,000Shanku=1Maha Shanku  [63.0, 193.0]  [662.0, 193.0]   \n",
      "4       100.000Maha Shanku=1Vrindam  [61.0, 238.0]  [682.0, 239.0]   \n",
      "5    100.000 Vrindam=1 Maha Vrindam  [62.0, 283.0]  [703.0, 285.0]   \n",
      "6      100,000 Maha Vrindam=1Padmam  [61.0, 328.0]  [717.0, 328.0]   \n",
      "7      100,000 Padmam =1Maha Padmam  [61.0, 371.0]  [728.0, 372.0]   \n",
      "8       100,000MahaPadmam=1 Kharvam  [63.0, 420.0]  [725.0, 420.0]   \n",
      "9     100.000 Kharvam=1Maha Kharvam  [62.0, 464.0]  [722.0, 465.0]   \n",
      "10  100,000 Maha Kharvam=1 Samudram  [61.0, 509.0]  [757.0, 510.0]   \n",
      "11           100,000 Samudram=1Ogha  [61.0, 553.0]  [582.0, 555.0]   \n",
      "12           100,000 Ogha=1Mahaugha  [61.0, 599.0]  [579.0, 600.0]   \n",
      "\n",
      "            Point3         Point4  Confidence  \n",
      "0    [658.0, 75.0]    [8.0, 73.0]    0.964705  \n",
      "1   [340.0, 136.0]  [62.0, 136.0]    0.939645  \n",
      "2   [479.0, 177.0]  [61.0, 176.0]    0.932691  \n",
      "3   [662.0, 221.0]  [63.0, 221.0]    0.930965  \n",
      "4   [682.0, 267.0]  [61.0, 265.0]    0.959877  \n",
      "5   [703.0, 312.0]  [62.0, 310.0]    0.933452  \n",
      "6   [717.0, 358.0]  [61.0, 358.0]    0.935367  \n",
      "7   [728.0, 404.0]  [61.0, 403.0]    0.913850  \n",
      "8   [725.0, 448.0]  [63.0, 448.0]    0.930464  \n",
      "9   [722.0, 493.0]  [62.0, 492.0]    0.935538  \n",
      "10  [757.0, 540.0]  [61.0, 539.0]    0.921891  \n",
      "11  [582.0, 589.0]  [61.0, 587.0]    0.949985  \n",
      "12  [579.0, 632.0]  [61.0, 631.0]    0.946156  \n"
     ]
    }
   ],
   "source": [
    "# Print the Result which is detected on image\n",
    "import pandas as pd\n",
    "\n",
    "df = pd.DataFrame(result[0], columns=['Coordinates', 'Text'])\n",
    "df[['Point1', 'Point2', 'Point3', 'Point4']] = pd.DataFrame(df['Coordinates'].tolist(), index=df.index)\n",
    "df.drop('Coordinates', axis=1, inplace=True)\n",
    "df['Text'], df['Confidence'] = zip(*df['Text'])\n",
    "\n",
    "print(df)\n"
   ]
  },
  {
   "cell_type": "code",
   "execution_count": 47,
   "id": "ca7fbfe1-a497-4843-8e9f-3f030d348b38",
   "metadata": {},
   "outputs": [
    {
     "name": "stdout",
     "output_type": "stream",
     "text": [
      "Detected text are: \n",
      "'How big is the Army?'\n",
      "'1Koti(1Crore)'\n",
      "'100,000 Koti=1 Shanku'\n",
      "'100,000Shanku=1Maha Shanku'\n",
      "'100.000Maha Shanku=1Vrindam'\n",
      "'100.000 Vrindam=1 Maha Vrindam'\n",
      "'100,000 Maha Vrindam=1Padmam'\n",
      "'100,000 Padmam =1Maha Padmam'\n",
      "'100,000MahaPadmam=1 Kharvam'\n",
      "'100.000 Kharvam=1Maha Kharvam'\n",
      "'100,000 Maha Kharvam=1 Samudram'\n",
      "'100,000 Samudram=1Ogha'\n",
      "'100,000 Ogha=1Mahaugha'\n"
     ]
    }
   ],
   "source": [
    "# Print the detected text\n",
    "print(\"Detected text are: \")\n",
    "for i in result[0]:\n",
    "    print(f\"'{i[1][0]}'\")"
   ]
  },
  {
   "cell_type": "markdown",
   "id": "591ab7f2-c58c-467f-8bce-47898d0f866d",
   "metadata": {},
   "source": [
    "Drew the Rectangle on the detected text "
   ]
  },
  {
   "cell_type": "code",
   "execution_count": 50,
   "id": "0903d090-f92c-41f5-851e-e990fe5d96ff",
   "metadata": {},
   "outputs": [
    {
     "name": "stdout",
     "output_type": "stream",
     "text": [
      "[2023/10/24 16:26:21] ppocr DEBUG: Namespace(help='==SUPPRESS==', use_gpu=False, use_xpu=False, use_npu=False, ir_optim=True, use_tensorrt=False, min_subgraph_size=15, precision='fp32', gpu_mem=500, gpu_id=0, image_dir=None, page_num=0, det_algorithm='DB', det_model_dir='C:\\\\Users\\\\DELL/.paddleocr/whl\\\\det\\\\en\\\\en_PP-OCRv3_det_infer', det_limit_side_len=960, det_limit_type='max', det_box_type='quad', det_db_thresh=0.3, det_db_box_thresh=0.6, det_db_unclip_ratio=1.5, max_batch_size=10, use_dilation=False, det_db_score_mode='fast', det_east_score_thresh=0.8, det_east_cover_thresh=0.1, det_east_nms_thresh=0.2, det_sast_score_thresh=0.5, det_sast_nms_thresh=0.2, det_pse_thresh=0, det_pse_box_thresh=0.85, det_pse_min_area=16, det_pse_scale=1, scales=[8, 16, 32], alpha=1.0, beta=1.0, fourier_degree=5, rec_algorithm='SVTR_LCNet', rec_model_dir='C:\\\\Users\\\\DELL/.paddleocr/whl\\\\rec\\\\en\\\\en_PP-OCRv4_rec_infer', rec_image_inverse=True, rec_image_shape='3, 48, 320', rec_batch_num=6, max_text_length=25, rec_char_dict_path='C:\\\\PYTHON\\\\lib\\\\site-packages\\\\paddleocr\\\\ppocr\\\\utils\\\\en_dict.txt', use_space_char=True, vis_font_path='./doc/fonts/simfang.ttf', drop_score=0.5, e2e_algorithm='PGNet', e2e_model_dir=None, e2e_limit_side_len=768, e2e_limit_type='max', e2e_pgnet_score_thresh=0.5, e2e_char_dict_path='./ppocr/utils/ic15_dict.txt', e2e_pgnet_valid_set='totaltext', e2e_pgnet_mode='fast', use_angle_cls=True, cls_model_dir='C:\\\\Users\\\\DELL/.paddleocr/whl\\\\cls\\\\ch_ppocr_mobile_v2.0_cls_infer', cls_image_shape='3, 48, 192', label_list=['0', '180'], cls_batch_num=6, cls_thresh=0.9, enable_mkldnn=False, cpu_threads=10, use_pdserving=False, warmup=False, sr_model_dir=None, sr_image_shape='3, 32, 128', sr_batch_num=1, draw_img_save_dir='./inference_results', save_crop_res=False, crop_res_save_dir='./output', use_mp=False, total_process_num=1, process_id=0, benchmark=False, save_log_path='./log_output/', show_log=True, use_onnx=False, return_word_box=False, output='./output', table_max_len=488, table_algorithm='TableAttn', table_model_dir=None, merge_no_span_structure=True, table_char_dict_path=None, layout_model_dir=None, layout_dict_path=None, layout_score_threshold=0.5, layout_nms_threshold=0.5, kie_algorithm='LayoutXLM', ser_model_dir=None, re_model_dir=None, use_visual_backbone=True, ser_dict_path='../train_data/XFUND/class_list_xfun.txt', ocr_order_method=None, mode='structure', image_orientation=False, layout=True, table=True, ocr=True, recovery=False, use_pdf2docx_api=False, lang='en', det=True, rec=True, type='ocr', ocr_version='PP-OCRv4', structure_version='PP-StructureV2')\n",
      "[2023/10/24 16:26:22] ppocr DEBUG: dt_boxes num : 13, elapse : 0.48442625999450684\n",
      "[2023/10/24 16:26:23] ppocr DEBUG: cls num  : 13, elapse : 0.17762494087219238\n",
      "[2023/10/24 16:26:29] ppocr DEBUG: rec_res num  : 13, elapse : 6.11639928817749\n"
     ]
    }
   ],
   "source": [
    "from paddleocr import PaddleOCR, draw_ocr\n",
    "import cv2\n",
    "import numpy as np\n",
    "\n",
    "ocr_model = PaddleOCR(use_angle_cls=True, lang='en')\n",
    "\n",
    "# Load the image\n",
    "img = cv2.imread(\"army_size.png\")\n",
    "\n",
    "result = ocr_model.ocr(img, cls=True)\n",
    "\n",
    "# Iterate through the detected text regions and draw rectangles\n",
    "for line in result[0]:\n",
    "    coords = [coord for sublist in line[0] for coord in sublist]\n",
    "    x1, y1, x2, y2, x3, y3, x4, y4 = [int(x) for x in coords]\n",
    "    cv2.rectangle(img, (x1, y1), (x3, y3), (0,255,0), 2)\n",
    "\n",
    "coords = [coord for sublist in line[0] for coord in sublist]\n",
    "\n",
    "# Display the image with rectangles\n",
    "cv2.imshow(\"Image with Rectangles\", img)\n",
    "cv2.waitKey(0)\n",
    "cv2.destroyAllWindows()"
   ]
  },
  {
   "cell_type": "markdown",
   "id": "9febcaa8-fc47-4210-abbb-9aee71c961af",
   "metadata": {},
   "source": [
    "Draw a rectangle and show the text on image"
   ]
  },
  {
   "cell_type": "code",
   "execution_count": 72,
   "id": "9846fafa-3bdc-42d7-b241-711be0d19f94",
   "metadata": {},
   "outputs": [
    {
     "name": "stdout",
     "output_type": "stream",
     "text": [
      "[2023/10/24 20:27:18] ppocr DEBUG: Namespace(help='==SUPPRESS==', use_gpu=False, use_xpu=False, use_npu=False, ir_optim=True, use_tensorrt=False, min_subgraph_size=15, precision='fp32', gpu_mem=500, gpu_id=0, image_dir=None, page_num=0, det_algorithm='DB', det_model_dir='C:\\\\Users\\\\DELL/.paddleocr/whl\\\\det\\\\en\\\\en_PP-OCRv3_det_infer', det_limit_side_len=960, det_limit_type='max', det_box_type='quad', det_db_thresh=0.3, det_db_box_thresh=0.6, det_db_unclip_ratio=1.5, max_batch_size=10, use_dilation=False, det_db_score_mode='fast', det_east_score_thresh=0.8, det_east_cover_thresh=0.1, det_east_nms_thresh=0.2, det_sast_score_thresh=0.5, det_sast_nms_thresh=0.2, det_pse_thresh=0, det_pse_box_thresh=0.85, det_pse_min_area=16, det_pse_scale=1, scales=[8, 16, 32], alpha=1.0, beta=1.0, fourier_degree=5, rec_algorithm='SVTR_LCNet', rec_model_dir='C:\\\\Users\\\\DELL/.paddleocr/whl\\\\rec\\\\en\\\\en_PP-OCRv4_rec_infer', rec_image_inverse=True, rec_image_shape='3, 48, 320', rec_batch_num=6, max_text_length=25, rec_char_dict_path='C:\\\\PYTHON\\\\lib\\\\site-packages\\\\paddleocr\\\\ppocr\\\\utils\\\\en_dict.txt', use_space_char=True, vis_font_path='./doc/fonts/simfang.ttf', drop_score=0.5, e2e_algorithm='PGNet', e2e_model_dir=None, e2e_limit_side_len=768, e2e_limit_type='max', e2e_pgnet_score_thresh=0.5, e2e_char_dict_path='./ppocr/utils/ic15_dict.txt', e2e_pgnet_valid_set='totaltext', e2e_pgnet_mode='fast', use_angle_cls=True, cls_model_dir='C:\\\\Users\\\\DELL/.paddleocr/whl\\\\cls\\\\ch_ppocr_mobile_v2.0_cls_infer', cls_image_shape='3, 48, 192', label_list=['0', '180'], cls_batch_num=6, cls_thresh=0.9, enable_mkldnn=False, cpu_threads=10, use_pdserving=False, warmup=False, sr_model_dir=None, sr_image_shape='3, 32, 128', sr_batch_num=1, draw_img_save_dir='./inference_results', save_crop_res=False, crop_res_save_dir='./output', use_mp=False, total_process_num=1, process_id=0, benchmark=False, save_log_path='./log_output/', show_log=True, use_onnx=False, return_word_box=False, output='./output', table_max_len=488, table_algorithm='TableAttn', table_model_dir=None, merge_no_span_structure=True, table_char_dict_path=None, layout_model_dir=None, layout_dict_path=None, layout_score_threshold=0.5, layout_nms_threshold=0.5, kie_algorithm='LayoutXLM', ser_model_dir=None, re_model_dir=None, use_visual_backbone=True, ser_dict_path='../train_data/XFUND/class_list_xfun.txt', ocr_order_method=None, mode='structure', image_orientation=False, layout=True, table=True, ocr=True, recovery=False, use_pdf2docx_api=False, lang='en', det=True, rec=True, type='ocr', ocr_version='PP-OCRv4', structure_version='PP-StructureV2')\n",
      "[2023/10/24 20:27:20] ppocr DEBUG: dt_boxes num : 13, elapse : 0.5421831607818604\n",
      "[2023/10/24 20:27:20] ppocr DEBUG: cls num  : 13, elapse : 0.18971920013427734\n",
      "[2023/10/24 20:27:27] ppocr DEBUG: rec_res num  : 13, elapse : 7.386303424835205\n",
      "How big is the Army?\n",
      "1Koti(1Crore)\n",
      "100,000 Koti=1 Shanku\n",
      "100,000Shanku=1Maha Shanku\n",
      "100.000Maha Shanku=1Vrindam\n",
      "100.000 Vrindam=1 Maha Vrindam\n",
      "100,000 Maha Vrindam=1Padmam\n",
      "100,000 Padmam =1Maha Padmam\n",
      "100,000MahaPadmam=1 Kharvam\n",
      "100.000 Kharvam=1Maha Kharvam\n",
      "100,000 Maha Kharvam=1 Samudram\n",
      "100,000 Samudram=1Ogha\n",
      "100,000 Ogha=1Mahaugha\n"
     ]
    }
   ],
   "source": [
    "from paddleocr import PaddleOCR, draw_ocr\n",
    "import cv2\n",
    "import numpy as np\n",
    "import pandas as pd\n",
    "\n",
    "ocr_model = PaddleOCR(use_angle_cls=True, lang='en')\n",
    "\n",
    "# Load the image\n",
    "img = cv2.imread(\"army_size.png\")\n",
    "\n",
    "result = ocr_model.ocr(img, cls=True)\n",
    "\n",
    "# Iterate through the detected text regions and draw rectangles\n",
    "for line in result[0]:\n",
    "    \n",
    "    coords = [coord for sublist in line[0] for coord in sublist]\n",
    "    x1, y1, x2, y2, x3, y3, x4, y4 = [int(x) for x in coords]\n",
    "    cv2.rectangle(img, (x1, y1), (x3, y3), (0, 255, 0), 2)\n",
    "\n",
    "    # Get the detected text\n",
    "    text = line[1][0]\n",
    "    \n",
    "    # Display the text over the rectangle\n",
    "    cv2.putText(img, text, (x1, y1 - 10), cv2.FONT_HERSHEY_SIMPLEX, 0.5, (0, 0, 255), 2)\n",
    "    print(text)\n",
    "    \n",
    "# Display the image with rectangles and text\n",
    "cv2.imshow(\"Image with Rectangles and Text\", img)\n",
    "cv2.waitKey(0)\n",
    "cv2.destroyAllWindows()"
   ]
  },
  {
   "cell_type": "markdown",
   "id": "ac1f27f4-16fa-49a8-84c8-85ad9e4f8d9b",
   "metadata": {},
   "source": [
    "                                                                THANK YOU"
   ]
  }
 ],
 "metadata": {
  "kernelspec": {
   "display_name": "Python 3 (ipykernel)",
   "language": "python",
   "name": "python3"
  },
  "language_info": {
   "codemirror_mode": {
    "name": "ipython",
    "version": 3
   },
   "file_extension": ".py",
   "mimetype": "text/x-python",
   "name": "python",
   "nbconvert_exporter": "python",
   "pygments_lexer": "ipython3",
   "version": "3.10.7"
  }
 },
 "nbformat": 4,
 "nbformat_minor": 5
}
