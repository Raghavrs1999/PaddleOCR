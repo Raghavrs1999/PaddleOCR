{
 "cells": [
  {
   "cell_type": "markdown",
   "id": "ad3aeb15-e56a-4d32-9f73-897e7073053c",
   "metadata": {},
   "source": [
    "Live PaddleOCR Code"
   ]
  },
  {
   "cell_type": "code",
   "execution_count": 6,
   "id": "0755bfe1-d070-401f-9840-72bbf159d808",
   "metadata": {},
   "outputs": [
    {
     "name": "stdout",
     "output_type": "stream",
     "text": [
      "[2023/10/24 17:48:17] ppocr DEBUG: Namespace(help='==SUPPRESS==', use_gpu=False, use_xpu=False, use_npu=False, ir_optim=True, use_tensorrt=False, min_subgraph_size=15, precision='fp32', gpu_mem=500, gpu_id=0, image_dir=None, page_num=0, det_algorithm='DB', det_model_dir='C:\\\\Users\\\\DELL/.paddleocr/whl\\\\det\\\\en\\\\en_PP-OCRv3_det_infer', det_limit_side_len=960, det_limit_type='max', det_box_type='quad', det_db_thresh=0.3, det_db_box_thresh=0.6, det_db_unclip_ratio=1.5, max_batch_size=10, use_dilation=False, det_db_score_mode='fast', det_east_score_thresh=0.8, det_east_cover_thresh=0.1, det_east_nms_thresh=0.2, det_sast_score_thresh=0.5, det_sast_nms_thresh=0.2, det_pse_thresh=0, det_pse_box_thresh=0.85, det_pse_min_area=16, det_pse_scale=1, scales=[8, 16, 32], alpha=1.0, beta=1.0, fourier_degree=5, rec_algorithm='SVTR_LCNet', rec_model_dir='C:\\\\Users\\\\DELL/.paddleocr/whl\\\\rec\\\\en\\\\en_PP-OCRv4_rec_infer', rec_image_inverse=True, rec_image_shape='3, 48, 320', rec_batch_num=6, max_text_length=25, rec_char_dict_path='C:\\\\PYTHON\\\\lib\\\\site-packages\\\\paddleocr\\\\ppocr\\\\utils\\\\en_dict.txt', use_space_char=True, vis_font_path='./doc/fonts/simfang.ttf', drop_score=0.5, e2e_algorithm='PGNet', e2e_model_dir=None, e2e_limit_side_len=768, e2e_limit_type='max', e2e_pgnet_score_thresh=0.5, e2e_char_dict_path='./ppocr/utils/ic15_dict.txt', e2e_pgnet_valid_set='totaltext', e2e_pgnet_mode='fast', use_angle_cls=True, cls_model_dir='C:\\\\Users\\\\DELL/.paddleocr/whl\\\\cls\\\\ch_ppocr_mobile_v2.0_cls_infer', cls_image_shape='3, 48, 192', label_list=['0', '180'], cls_batch_num=6, cls_thresh=0.9, enable_mkldnn=False, cpu_threads=10, use_pdserving=False, warmup=False, sr_model_dir=None, sr_image_shape='3, 32, 128', sr_batch_num=1, draw_img_save_dir='./inference_results', save_crop_res=False, crop_res_save_dir='./output', use_mp=False, total_process_num=1, process_id=0, benchmark=False, save_log_path='./log_output/', show_log=True, use_onnx=False, return_word_box=False, output='./output', table_max_len=488, table_algorithm='TableAttn', table_model_dir=None, merge_no_span_structure=True, table_char_dict_path=None, layout_model_dir=None, layout_dict_path=None, layout_score_threshold=0.5, layout_nms_threshold=0.5, kie_algorithm='LayoutXLM', ser_model_dir=None, re_model_dir=None, use_visual_backbone=True, ser_dict_path='../train_data/XFUND/class_list_xfun.txt', ocr_order_method=None, mode='structure', image_orientation=False, layout=True, table=True, ocr=True, recovery=False, use_pdf2docx_api=False, lang='en', det=True, rec=True, type='ocr', ocr_version='PP-OCRv4', structure_version='PP-StructureV2')\n",
      "[2023/10/24 17:48:22] ppocr DEBUG: dt_boxes num : 0, elapse : 0.5562112331390381\n",
      "[2023/10/24 17:48:22] ppocr DEBUG: cls num  : 0, elapse : 0\n",
      "[2023/10/24 17:48:22] ppocr DEBUG: rec_res num  : 0, elapse : 0.0\n",
      "[2023/10/24 17:48:23] ppocr DEBUG: dt_boxes num : 0, elapse : 0.5698537826538086\n",
      "[2023/10/24 17:48:23] ppocr DEBUG: cls num  : 0, elapse : 0\n",
      "[2023/10/24 17:48:23] ppocr DEBUG: rec_res num  : 0, elapse : 0.0\n",
      "[2023/10/24 17:48:24] ppocr DEBUG: dt_boxes num : 0, elapse : 0.5515258312225342\n",
      "[2023/10/24 17:48:24] ppocr DEBUG: cls num  : 0, elapse : 0\n",
      "[2023/10/24 17:48:24] ppocr DEBUG: rec_res num  : 0, elapse : 0.0\n"
     ]
    }
   ],
   "source": [
    "from paddleocr import PaddleOCR, draw_ocr \n",
    "from matplotlib import pyplot as plt \n",
    "import cv2 \n",
    "\n",
    "\n",
    "ocr_model = PaddleOCR(use_angle_cls=True ,lang='en',use_gpu=True, gpu_id=0)\n",
    "#ocr_model = PaddleOCR(use_angle_cls=True ,lang='en')\n",
    "\n",
    "frames = cv2.VideoCapture(0)   # Change the index according to your camera \n",
    "\n",
    "while True:\n",
    "    ret, frame = frames.read()\n",
    "    if not ret:\n",
    "        break\n",
    "        \n",
    "    result = ocr_model.ocr(frame,cls = True)\n",
    "    \n",
    "    for line in result[0]:\n",
    "        coords = [coord for sublist in line[0] for coord in sublist]\n",
    "        x1, y1, x2, y2, x3, y3, x4, y4 = [int(x) for x in coords]\n",
    "        cv2.rectangle(frame, (x1, y1), (x3, y3), (0, 255, 0), 2)\n",
    "    \n",
    "        # Get the detected text\n",
    "        text = line[1][0]\n",
    "        \n",
    "        # Display the text over the rectangle\n",
    "        cv2.putText(frame, text, (x1, y1 - 10), cv2.FONT_HERSHEY_SIMPLEX, 0.5, (0, 0, 255), 2)\n",
    "\n",
    "    # Display the image with rectangles and text\n",
    "    cv2.imshow(\"Image with Rectangles and Text\", frame)\n",
    "    key = cv2.waitKey(10)\n",
    "    if key == ord(\"q\") or key == 27:\n",
    "        break\n",
    "frames.release()\n",
    "cv2.destroyAllWindows()"
   ]
  },
  {
   "cell_type": "markdown",
   "id": "77ccb44c-1086-4fff-9301-32152c225f2d",
   "metadata": {},
   "source": [
    "Trigger Baised Code"
   ]
  },
  {
   "cell_type": "code",
   "execution_count": 10,
   "id": "9c021a76-079b-45e5-86e3-989e53fba5b2",
   "metadata": {},
   "outputs": [
    {
     "name": "stdout",
     "output_type": "stream",
     "text": [
      "[2023/10/24 22:00:04] ppocr DEBUG: Namespace(help='==SUPPRESS==', use_gpu=False, use_xpu=False, use_npu=False, ir_optim=True, use_tensorrt=False, min_subgraph_size=15, precision='fp32', gpu_mem=500, gpu_id=0, image_dir=None, page_num=0, det_algorithm='DB', det_model_dir='C:\\\\Users\\\\DELL/.paddleocr/whl\\\\det\\\\en\\\\en_PP-OCRv3_det_infer', det_limit_side_len=960, det_limit_type='max', det_box_type='quad', det_db_thresh=0.3, det_db_box_thresh=0.6, det_db_unclip_ratio=1.5, max_batch_size=10, use_dilation=False, det_db_score_mode='fast', det_east_score_thresh=0.8, det_east_cover_thresh=0.1, det_east_nms_thresh=0.2, det_sast_score_thresh=0.5, det_sast_nms_thresh=0.2, det_pse_thresh=0, det_pse_box_thresh=0.85, det_pse_min_area=16, det_pse_scale=1, scales=[8, 16, 32], alpha=1.0, beta=1.0, fourier_degree=5, rec_algorithm='SVTR_LCNet', rec_model_dir='C:\\\\Users\\\\DELL/.paddleocr/whl\\\\rec\\\\en\\\\en_PP-OCRv4_rec_infer', rec_image_inverse=True, rec_image_shape='3, 48, 320', rec_batch_num=6, max_text_length=25, rec_char_dict_path='C:\\\\PYTHON\\\\lib\\\\site-packages\\\\paddleocr\\\\ppocr\\\\utils\\\\en_dict.txt', use_space_char=True, vis_font_path='./doc/fonts/simfang.ttf', drop_score=0.5, e2e_algorithm='PGNet', e2e_model_dir=None, e2e_limit_side_len=768, e2e_limit_type='max', e2e_pgnet_score_thresh=0.5, e2e_char_dict_path='./ppocr/utils/ic15_dict.txt', e2e_pgnet_valid_set='totaltext', e2e_pgnet_mode='fast', use_angle_cls=True, cls_model_dir='C:\\\\Users\\\\DELL/.paddleocr/whl\\\\cls\\\\ch_ppocr_mobile_v2.0_cls_infer', cls_image_shape='3, 48, 192', label_list=['0', '180'], cls_batch_num=6, cls_thresh=0.9, enable_mkldnn=False, cpu_threads=10, use_pdserving=False, warmup=False, sr_model_dir=None, sr_image_shape='3, 32, 128', sr_batch_num=1, draw_img_save_dir='./inference_results', save_crop_res=False, crop_res_save_dir='./output', use_mp=False, total_process_num=1, process_id=0, benchmark=False, save_log_path='./log_output/', show_log=True, use_onnx=False, return_word_box=False, output='./output', table_max_len=488, table_algorithm='TableAttn', table_model_dir=None, merge_no_span_structure=True, table_char_dict_path=None, layout_model_dir=None, layout_dict_path=None, layout_score_threshold=0.5, layout_nms_threshold=0.5, kie_algorithm='LayoutXLM', ser_model_dir=None, re_model_dir=None, use_visual_backbone=True, ser_dict_path='../train_data/XFUND/class_list_xfun.txt', ocr_order_method=None, mode='structure', image_orientation=False, layout=True, table=True, ocr=True, recovery=False, use_pdf2docx_api=False, lang='en', det=True, rec=True, type='ocr', ocr_version='PP-OCRv4', structure_version='PP-StructureV2')\n",
      "[2023/10/24 22:00:44] ppocr DEBUG: dt_boxes num : 10, elapse : 0.7693390846252441\n",
      "[2023/10/24 22:00:44] ppocr DEBUG: cls num  : 10, elapse : 0.39168238639831543\n",
      "[2023/10/24 22:00:51] ppocr DEBUG: rec_res num  : 10, elapse : 6.459092855453491\n",
      "Press 's' to coptured\n",
      "o69739692288\n",
      "Sn Szimdh\n",
      "NISARGA MENS PG\n",
      "Luxurous PG Accommodaton\n",
      "No.CtRangawamy Compiex\n",
      "Praceep 9741404213\n",
      "MC LayouNent  veereshReatre\n",
      "E-mail risargapradeep@gma.com\n",
      "Megad Nan Road Bangaiore-S60 040\n"
     ]
    }
   ],
   "source": [
    "from paddleocr import PaddleOCR\n",
    "import cv2\n",
    "\n",
    "ocr_model = PaddleOCR(use_angle_cls=True, lang='en', use_gpu=True, gpu_id=0)\n",
    "frames = cv2.VideoCapture(0)  # Change the index according to your camera\n",
    "\n",
    "while True:\n",
    "    ret, frame = frames.read()\n",
    "    if not ret:\n",
    "        break\n",
    "\n",
    "    # Display the current frame\n",
    "    cv2.putText(frame, \"Press 's' to capture\", (5, 15), cv2.FONT_HERSHEY_SIMPLEX, 0.5, (0, 0, 255), 2)\n",
    "    cv2.imshow(\"Current Frame\", frame)\n",
    "\n",
    "    key = cv2.waitKey(1)\n",
    "\n",
    "    # If 's' is pressed, perform OCR on the current frame\n",
    "    if key == ord(\"s\"):\n",
    "        result = ocr_model.ocr(frame, cls=True)\n",
    "        for line in result[0]:\n",
    "            \n",
    "            coords = [coord for sublist in line[0] for coord in sublist]\n",
    "            x1, y1, x2, y2, x3, y3, x4, y4 = [int(x) for x in coords]\n",
    "            cv2.rectangle(frame, (x1, y1), (x3, y3), (0, 255, 0), 2)\n",
    "\n",
    "            # Get the detected text\n",
    "            #text = line[1][0]\n",
    "            print(line[1][0])\n",
    "            # Display the text over the rectangle\n",
    "            cv2.putText(frame, line[1][0], (x1, y1 - 10), cv2.FONT_HERSHEY_SIMPLEX, 0.5, (0, 0, 255), 2)\n",
    "\n",
    "        # Display the image with rectangles and text after OCR\n",
    "        cv2.imshow(\"Image with Rectangles and Text\", frame)\n",
    "\n",
    "    # If 'q' or 'Esc' is pressed, exit the loop\n",
    "    if key == ord(\"q\") or key == 27:\n",
    "        break\n",
    "\n",
    "# Release the camera and destroy any OpenCV windows\n",
    "frames.release()\n",
    "cv2.destroyAllWindows()"
   ]
  },
  {
   "cell_type": "markdown",
   "id": "b80c5e2a-b544-4273-aa9c-533e0ba68939",
   "metadata": {},
   "source": [
    "                                                            THANK YOU"
   ]
  }
 ],
 "metadata": {
  "kernelspec": {
   "display_name": "Python 3 (ipykernel)",
   "language": "python",
   "name": "python3"
  },
  "language_info": {
   "codemirror_mode": {
    "name": "ipython",
    "version": 3
   },
   "file_extension": ".py",
   "mimetype": "text/x-python",
   "name": "python",
   "nbconvert_exporter": "python",
   "pygments_lexer": "ipython3",
   "version": "3.10.7"
  }
 },
 "nbformat": 4,
 "nbformat_minor": 5
}
